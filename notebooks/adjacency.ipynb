{
 "cells": [
  {
   "cell_type": "code",
   "execution_count": 60,
   "metadata": {},
   "outputs": [],
   "source": [
    "import geopandas as gpd\n",
    "import pandas as pd\n",
    "import numpy as np\n",
    "from time import time\n",
    "import seaborn as sns\n",
    "import matplotlib.pyplot as plt\n",
    "\n",
    "from shapely.geometry import Point"
   ]
  },
  {
   "cell_type": "code",
   "execution_count": 2,
   "metadata": {},
   "outputs": [],
   "source": [
    "from greedy import greedy"
   ]
  },
  {
   "cell_type": "code",
   "execution_count": 48,
   "metadata": {},
   "outputs": [],
   "source": [
    "sns.set()"
   ]
  },
  {
   "cell_type": "code",
   "execution_count": 50,
   "metadata": {},
   "outputs": [],
   "source": [
    "polys = []\n",
    "for x in range(10):\n",
    "    for y in range(10):\n",
    "        polys.append(Point(x, y).buffer(0.5, cap_style=3))\n",
    "gdf = gpd.GeoDataFrame(geometry=polys)"
   ]
  },
  {
   "cell_type": "code",
   "execution_count": 51,
   "metadata": {},
   "outputs": [
    {
     "data": {
      "image/png": "[encoded data removed]",
      "text/plain": [
       "<Figure size 432x288 with 1 Axes>"
      ]
     },
     "metadata": {},
     "output_type": "display_data"
    }
   ],
   "source": [
    "ax = gdf.plot(edgecolor='w')\n",
    "ax.set_axis_off()"
   ]
  },
  {
   "cell_type": "code",
   "execution_count": null,
   "metadata": {},
   "outputs": [],
   "source": [
    "libpysal based"
   ]
  },
  {
   "cell_type": "code",
   "execution_count": 52,
   "metadata": {},
   "outputs": [
    {
     "data": {
      "image/png": "[encoded data removed]",
      "text/plain": [
       "<Figure size 432x288 with 1 Axes>"
      ]
     },
     "metadata": {},
     "output_type": "display_data"
    }
   ],
   "source": [
    "gdf['rook'] = greedy(gdf, sw='rook', min_colors=2)\n",
    "ax = gdf.plot('rook', edgecolor='w', categorical=True, cmap='Set3')\n",
    "ax.set_axis_off()"
   ]
  },
  {
   "cell_type": "code",
   "execution_count": 53,
   "metadata": {},
   "outputs": [
    {
     "data": {
      "image/png": "[encoded data removed]",
      "text/plain": [
       "<Figure size 432x288 with 1 Axes>"
      ]
     },
     "metadata": {},
     "output_type": "display_data"
    }
   ],
   "source": [
    "gdf['queen'] = greedy(gdf, sw='queen', min_colors=2)\n",
    "ax = gdf.plot('queen', edgecolor='w', categorical=True, cmap='Set3')\n",
    "ax.set_axis_off()"
   ]
  },
  {
   "cell_type": "code",
   "execution_count": null,
   "metadata": {},
   "outputs": [],
   "source": [
    "intersection based"
   ]
  },
  {
   "cell_type": "code",
   "execution_count": 54,
   "metadata": {},
   "outputs": [
    {
     "data": {
      "image/png": "[encoded data removed]",
      "text/plain": [
       "<Figure size 432x288 with 1 Axes>"
      ]
     },
     "metadata": {},
     "output_type": "display_data"
    }
   ],
   "source": [
    "gdf['geos'] = greedy(gdf, min_distance=0, min_colors=2)\n",
    "ax = gdf.plot('geos', edgecolor='w', categorical=True, cmap='Set3')\n",
    "ax.set_axis_off()"
   ]
  },
  {
   "cell_type": "code",
   "execution_count": 55,
   "metadata": {},
   "outputs": [
    {
     "data": {
      "image/png": "[encoded data removed]",
      "text/plain": [
       "<Figure size 432x288 with 1 Axes>"
      ]
     },
     "metadata": {},
     "output_type": "display_data"
    }
   ],
   "source": [
    "gdf['dist1'] = greedy(gdf, min_distance=1, min_colors=2)\n",
    "ax = gdf.plot('dist1', edgecolor='w', categorical=True, cmap='Set3')\n",
    "ax.set_axis_off()"
   ]
  },
  {
   "cell_type": "code",
   "execution_count": 28,
   "metadata": {},
   "outputs": [
    {
     "name": "stdout",
     "output_type": "stream",
     "text": [
      "10\n",
      "rook:  0.01029210090637207 s;  4 colors\n",
      "queen:  0.006267690658569336 s;  4 colors\n",
      "geos:  0.15672893524169923 s;  4 colors\n",
      "dist1:  0.21950168609619142 s;  10 colors\n",
      "20\n",
      "rook:  0.01932358741760254 s;  4 colors\n",
      "queen:  0.019013690948486327 s;  4 colors\n",
      "geos:  0.5995094776153564 s;  4 colors\n",
      "dist1:  0.9240117073059082 s;  10 colors\n",
      "30\n",
      "rook:  0.04496006965637207 s;  4 colors\n",
      "queen:  0.04180002212524414 s;  4 colors\n",
      "geos:  1.3673813819885254 s;  4 colors\n",
      "dist1:  2.1132378578186035 s;  10 colors\n",
      "40\n",
      "rook:  0.08215422630310058 s;  4 colors\n",
      "queen:  0.08703317642211914 s;  4 colors\n",
      "geos:  2.4122870922088624 s;  4 colors\n",
      "dist1:  3.9358083724975588 s;  10 colors\n",
      "50\n",
      "rook:  0.13613815307617189 s;  4 colors\n",
      "queen:  0.1286477565765381 s;  4 colors\n",
      "geos:  3.7892502784729003 s;  4 colors\n",
      "dist1:  6.030300855636597 s;  10 colors\n",
      "60\n",
      "rook:  0.21495418548583983 s;  4 colors\n",
      "queen:  0.20560770034790038 s;  4 colors\n",
      "geos:  5.745699644088745 s;  4 colors\n",
      "dist1:  8.623000431060792 s;  10 colors\n",
      "70\n",
      "rook:  0.3028740882873535 s;  4 colors\n",
      "queen:  0.2708714485168457 s;  4 colors\n",
      "geos:  7.566797542572021 s;  4 colors\n",
      "dist1:  11.740409564971923 s;  10 colors\n",
      "80\n",
      "rook:  0.3894804954528809 s;  4 colors\n",
      "queen:  0.3736574649810791 s;  4 colors\n",
      "geos:  10.271010398864746 s;  4 colors\n",
      "dist1:  15.380718183517455 s;  10 colors\n",
      "90\n",
      "rook:  0.47423458099365234 s;  4 colors\n",
      "queen:  0.4377274990081787 s;  4 colors\n",
      "geos:  12.464200687408447 s;  4 colors\n",
      "dist1:  19.965694665908813 s;  10 colors\n",
      "100\n",
      "rook:  0.5873185157775879 s;  4 colors\n",
      "queen:  0.5612773895263672 s;  4 colors\n",
      "geos:  15.281956052780151 s;  4 colors\n",
      "dist1:  24.670071363449097 s;  10 colors\n"
     ]
    }
   ],
   "source": [
    "times = pd.DataFrame(index=['rook', 'queen', 'geos', 'dist1'])\n",
    "for number in range(10, 110, 10):\n",
    "    print(number)\n",
    "    polys = []\n",
    "    for x in range(number):\n",
    "        for y in range(number):\n",
    "            polys.append(Point(x, y).buffer(0.5, cap_style=3))\n",
    "    gdf = gpd.GeoDataFrame(geometry=polys)\n",
    "    timer = []\n",
    "    for run in range(5):\n",
    "        s = time()\n",
    "        colors = greedy(gdf, sw='rook')\n",
    "        e = time() - s\n",
    "        timer.append(e)\n",
    "    times.loc['rook', number] = np.mean(timer)\n",
    "    print('rook: ', np.mean(timer), 's; ', np.max(colors) + 1, 'colors')\n",
    "    timer = []\n",
    "    for run in range(5):\n",
    "        s = time()\n",
    "        colors = greedy(gdf, sw='queen')\n",
    "        e = time() - s\n",
    "        timer.append(e)\n",
    "    times.loc['queen', number] = np.mean(timer)\n",
    "    print('queen: ', np.mean(timer), 's; ', np.max(colors) + 1, 'colors')\n",
    "    timer = []\n",
    "    for run in range(5):\n",
    "        s = time()\n",
    "        colors = greedy(gdf, min_distance=0)\n",
    "        e = time() - s\n",
    "        timer.append(e)\n",
    "    times.loc['geos', number] = np.mean(timer)\n",
    "    print('geos: ', np.mean(timer), 's; ', np.max(colors) + 1, 'colors')\n",
    "    timer = []\n",
    "    for run in range(5):\n",
    "        s = time()\n",
    "        colors = greedy(gdf, min_distance=1)\n",
    "        e = time() - s\n",
    "        timer.append(e)\n",
    "    times.loc['dist1', number] = np.mean(timer)\n",
    "    print('dist1: ', np.mean(timer), 's; ', np.max(colors) + 1, 'colors')\n"
   ]
  },
  {
   "cell_type": "code",
   "execution_count": 29,
   "metadata": {},
   "outputs": [
    {
     "data": {
      "text/html": [
       "<div>\n",
       "<style scoped>\n",
       "    .dataframe tbody tr th:only-of-type {\n",
       "        vertical-align: middle;\n",
       "    }\n",
       "\n",
       "    .dataframe tbody tr th {\n",
       "        vertical-align: top;\n",
       "    }\n",
       "\n",
       "    .dataframe thead th {\n",
       "        text-align: right;\n",
       "    }\n",
       "</style>\n",
       "<table border=\"1\" class=\"dataframe\">\n",
       "  <thead>\n",
       "    <tr style=\"text-align: right;\">\n",
       "      <th></th>\n",
       "      <th>10</th>\n",
       "      <th>20</th>\n",
       "      <th>30</th>\n",
       "      <th>40</th>\n",
       "      <th>50</th>\n",
       "      <th>60</th>\n",
       "      <th>70</th>\n",
       "      <th>80</th>\n",
       "      <th>90</th>\n",
       "      <th>100</th>\n",
       "    </tr>\n",
       "  </thead>\n",
       "  <tbody>\n",
       "    <tr>\n",
       "      <th>rook</th>\n",
       "      <td>0.010292</td>\n",
       "      <td>0.019324</td>\n",
       "      <td>0.044960</td>\n",
       "      <td>0.082154</td>\n",
       "      <td>0.136138</td>\n",
       "      <td>0.214954</td>\n",
       "      <td>0.302874</td>\n",
       "      <td>0.389480</td>\n",
       "      <td>0.474235</td>\n",
       "      <td>0.587319</td>\n",
       "    </tr>\n",
       "    <tr>\n",
       "      <th>queen</th>\n",
       "      <td>0.006268</td>\n",
       "      <td>0.019014</td>\n",
       "      <td>0.041800</td>\n",
       "      <td>0.087033</td>\n",
       "      <td>0.128648</td>\n",
       "      <td>0.205608</td>\n",
       "      <td>0.270871</td>\n",
       "      <td>0.373657</td>\n",
       "      <td>0.437727</td>\n",
       "      <td>0.561277</td>\n",
       "    </tr>\n",
       "    <tr>\n",
       "      <th>geos</th>\n",
       "      <td>0.156729</td>\n",
       "      <td>0.599509</td>\n",
       "      <td>1.367381</td>\n",
       "      <td>2.412287</td>\n",
       "      <td>3.789250</td>\n",
       "      <td>5.745700</td>\n",
       "      <td>7.566798</td>\n",
       "      <td>10.271010</td>\n",
       "      <td>12.464201</td>\n",
       "      <td>15.281956</td>\n",
       "    </tr>\n",
       "    <tr>\n",
       "      <th>dist1</th>\n",
       "      <td>0.219502</td>\n",
       "      <td>0.924012</td>\n",
       "      <td>2.113238</td>\n",
       "      <td>3.935808</td>\n",
       "      <td>6.030301</td>\n",
       "      <td>8.623000</td>\n",
       "      <td>11.740410</td>\n",
       "      <td>15.380718</td>\n",
       "      <td>19.965695</td>\n",
       "      <td>24.670071</td>\n",
       "    </tr>\n",
       "  </tbody>\n",
       "</table>\n",
       "</div>"
      ],
      "text/plain": [
       "            10        20        30        40        50        60         70   \\\n",
       "rook   0.010292  0.019324  0.044960  0.082154  0.136138  0.214954   0.302874   \n",
       "queen  0.006268  0.019014  0.041800  0.087033  0.128648  0.205608   0.270871   \n",
       "geos   0.156729  0.599509  1.367381  2.412287  3.789250  5.745700   7.566798   \n",
       "dist1  0.219502  0.924012  2.113238  3.935808  6.030301  8.623000  11.740410   \n",
       "\n",
       "             80         90         100  \n",
       "rook    0.389480   0.474235   0.587319  \n",
       "queen   0.373657   0.437727   0.561277  \n",
       "geos   10.271010  12.464201  15.281956  \n",
       "dist1  15.380718  19.965695  24.670071  "
      ]
     },
     "execution_count": 29,
     "metadata": {},
     "output_type": "execute_result"
    }
   ],
   "source": [
    "times"
   ]
  },
  {
   "cell_type": "code",
   "execution_count": 75,
   "metadata": {},
   "outputs": [
    {
     "data": {
      "text/plain": [
       "([<matplotlib.axis.XTick at 0x1201bfdf0>,\n",
       "  <matplotlib.axis.XTick at 0x11fece8e0>,\n",
       "  <matplotlib.axis.XTick at 0x121743c40>,\n",
       "  <matplotlib.axis.XTick at 0x11fe33610>,\n",
       "  <matplotlib.axis.XTick at 0x11ffb10d0>,\n",
       "  <matplotlib.axis.XTick at 0x1200f07c0>,\n",
       "  <matplotlib.axis.XTick at 0x11f65a550>,\n",
       "  <matplotlib.axis.XTick at 0x11f6520d0>,\n",
       "  <matplotlib.axis.XTick at 0x11f652c10>,\n",
       "  <matplotlib.axis.XTick at 0x11f61b6d0>],\n",
       " <a list of 10 Text xticklabel objects>)"
      ]
     },
     "execution_count": 75,
     "metadata": {},
     "output_type": "execute_result"
    },
    {
     "data": {
      "image/png": "[encoded data removed]",
      "text/plain": [
       "<Figure size 432x288 with 1 Axes>"
      ]
     },
     "metadata": {},
     "output_type": "display_data"
    }
   ],
   "source": [
    "ax = times.T.plot()\n",
    "ax.set_ylabel('time (s)')\n",
    "ax.set_xlabel('# of polygons')\n",
    "locs, labels = plt.xticks()\n",
    "plt.xticks(locs, (times.columns ** 2), rotation='vertical')"
   ]
  },
  {
   "cell_type": "code",
   "execution_count": 76,
   "metadata": {},
   "outputs": [
    {
     "data": {
      "text/plain": [
       "([<matplotlib.axis.XTick at 0x11ff36a30>,\n",
       "  <matplotlib.axis.XTick at 0x11ff36af0>,\n",
       "  <matplotlib.axis.XTick at 0x11f5b9a90>,\n",
       "  <matplotlib.axis.XTick at 0x11f5e9370>,\n",
       "  <matplotlib.axis.XTick at 0x11f5e9d90>,\n",
       "  <matplotlib.axis.XTick at 0x120053790>,\n",
       "  <matplotlib.axis.XTick at 0x12005b250>,\n",
       "  <matplotlib.axis.XTick at 0x12005bdf0>,\n",
       "  <matplotlib.axis.XTick at 0x12002a970>,\n",
       "  <matplotlib.axis.XTick at 0x12005b730>],\n",
       " <a list of 10 Text xticklabel objects>)"
      ]
     },
     "execution_count": 76,
     "metadata": {},
     "output_type": "execute_result"
    },
    {
     "data": {
      "image/png": "[encoded data removed]",
      "text/plain": [
       "<Figure size 432x288 with 1 Axes>"
      ]
     },
     "metadata": {},
     "output_type": "display_data"
    }
   ],
   "source": [
    "ax = times.loc[['rook', 'queen']].T.plot()\n",
    "ax.set_ylabel('time (s)')\n",
    "ax.set_xlabel('# of polygons')\n",
    "locs, labels = plt.xticks()\n",
    "plt.xticks(locs, (times.columns ** 2), rotation='vertical')"
   ]
  },
  {
   "cell_type": "code",
   "execution_count": null,
   "metadata": {},
   "outputs": [],
   "source": []
  }
 ],
 "metadata": {
  "kernelspec": {
   "display_name": "geo_dev",
   "language": "python",
   "name": "geo_dev"
  },
  "language_info": {
   "codemirror_mode": {
    "name": "ipython",
    "version": 3
   },
   "file_extension": ".py",
   "mimetype": "text/x-python",
   "name": "python",
   "nbconvert_exporter": "python",
   "pygments_lexer": "ipython3",
   "version": "3.8.0"
  }
 },
 "nbformat": 4,
 "nbformat_minor": 4
}
