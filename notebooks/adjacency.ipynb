{
 "cells": [
  {
   "cell_type": "markdown",
   "metadata": {},
   "source": [
    "# Defining adjacency\n",
    "\n",
    "The key in toplogical coloring is the definition of adjacency, to understand which features are neighboring and could not share the same color. `greedy` comes with several methods of defining it. Binary spatial weights denoting adjacency are then stored as libpysal's weight objects."
   ]
  },
  {
   "cell_type": "code",
   "execution_count": 77,
   "metadata": {},
   "outputs": [],
   "source": [
    "import geopandas as gpd\n",
    "import pandas as pd\n",
    "import numpy as np\n",
    "from time import time\n",
    "import seaborn as sns\n",
    "import matplotlib.pyplot as plt\n",
    "\n",
    "from shapely.geometry import Point\n",
    "\n",
    "from greedy import greedy\n",
    "\n",
    "sns.set()"
   ]
  },
  {
   "cell_type": "markdown",
   "metadata": {},
   "source": [
    "For illustration purposes, let's generate a 10x10 mesh of squared polygons:"
   ]
  },
  {
   "cell_type": "code",
   "execution_count": 78,
   "metadata": {},
   "outputs": [
    {
     "data": {
      "image/png": "[encoded data removed]",
      "text/plain": [
       "<Figure size 432x288 with 1 Axes>"
      ]
     },
     "metadata": {},
     "output_type": "display_data"
    }
   ],
   "source": [
    "polys = []\n",
    "for x in range(10):\n",
    "    for y in range(10):\n",
    "        polys.append(Point(x, y).buffer(0.5, cap_style=3))\n",
    "gdf = gpd.GeoDataFrame(geometry=polys)\n",
    "ax = gdf.plot(edgecolor='w')\n",
    "ax.set_axis_off()"
   ]
  },
  {
   "cell_type": "markdown",
   "metadata": {},
   "source": [
    "## libpysal adjacency\n",
    "\n",
    "The most performant way of generating spatial weights is using libpysal contiguity weights. As they are based on the shared nodes or edges, dataset needs to be topologically correct. Neighboring polygons needs to share vertices and edges, otherwise their relationship will not be captured.\n",
    "\n",
    "### Rook\n",
    "\n",
    "There are two ways how to define contiguity weights - `rook` and `queen`. Rook identifies two objects as neighboring only if they share at least on edge - line between two shared points. Use rook if you do not mind two polygons touching by hteir corners having the same color:"
   ]
  },
  {
   "cell_type": "code",
   "execution_count": 52,
   "metadata": {},
   "outputs": [
    {
     "data": {
      "image/png": "[encoded data removed]",
      "text/plain": [
       "<Figure size 432x288 with 1 Axes>"
      ]
     },
     "metadata": {},
     "output_type": "display_data"
    }
   ],
   "source": [
    "gdf['rook'] = greedy(gdf, sw='rook', min_colors=2)\n",
    "ax = gdf.plot('rook', edgecolor='w', categorical=True, cmap='Set3')\n",
    "ax.set_axis_off()"
   ]
  },
  {
   "cell_type": "markdown",
   "metadata": {},
   "source": [
    "### Queen\n",
    "\n",
    "The default option in `greedy` is `queen` adjacency. That identifies two objects as neighboring if they share at least one point. It ensures that even poygons sharing only one corner will not share a color:"
   ]
  },
  {
   "cell_type": "code",
   "execution_count": 53,
   "metadata": {},
   "outputs": [
    {
     "data": {
      "image/png": "[encoded data removed]",
      "text/plain": [
       "<Figure size 432x288 with 1 Axes>"
      ]
     },
     "metadata": {},
     "output_type": "display_data"
    }
   ],
   "source": [
    "gdf['queen'] = greedy(gdf, sw='queen', min_colors=2)\n",
    "ax = gdf.plot('queen', edgecolor='w', categorical=True, cmap='Set3')\n",
    "ax.set_axis_off()"
   ]
  },
  {
   "cell_type": "markdown",
   "metadata": {},
   "source": [
    "## Intersection-based adjacency\n",
    "\n",
    "As noted above, if the topology of the dataset is not ideal, libpysal might not identify two visually neighboring features as neighbors. `greedy` can use intersection-based algorithm using GEOS intersection to define if two features intersects in any way. They do not have to share any points. Naturally, such an approach is significantly slower (details below), but it can provide correct adjacency when libpysal fails.\n",
    "\n",
    "To make `greedy` to use this algorithm, one just needs to define `min_distance`. If it is set to 0, it behaves similarly to `queen` contiguity, just capturing all intersections:"
   ]
  },
  {
   "cell_type": "code",
   "execution_count": 54,
   "metadata": {},
   "outputs": [
    {
     "data": {
      "image/png": "[encoded data removed]",
      "text/plain": [
       "<Figure size 432x288 with 1 Axes>"
      ]
     },
     "metadata": {},
     "output_type": "display_data"
    }
   ],
   "source": [
    "gdf['geos'] = greedy(gdf, min_distance=0, min_colors=2)\n",
    "ax = gdf.plot('geos', edgecolor='w', categorical=True, cmap='Set3')\n",
    "ax.set_axis_off()"
   ]
  },
  {
   "cell_type": "markdown",
   "metadata": {},
   "source": [
    "`min_distance` also sets the minimal distance between colors. To do that, all features within such a distance are identified as neighbors, hence no two features wihtin set distance can share the same color:"
   ]
  },
  {
   "cell_type": "code",
   "execution_count": 55,
   "metadata": {},
   "outputs": [
    {
     "data": {
      "image/png": "[encoded data removed]",
      "text/plain": [
       "<Figure size 432x288 with 1 Axes>"
      ]
     },
     "metadata": {},
     "output_type": "display_data"
    }
   ],
   "source": [
    "gdf['dist1'] = greedy(gdf, min_distance=1, min_colors=2)\n",
    "ax = gdf.plot('dist1', edgecolor='w', categorical=True, cmap='Set3')\n",
    "ax.set_axis_off()"
   ]
  },
  {
   "cell_type": "markdown",
   "metadata": {},
   "source": [
    "## Reusing spatial weights\n",
    "\n",
    "Passing `libpysal.weights.W` object to `sw`, will skip generating spatial weights and use the passed object instead. That will improve the performance if one intends to repeate the coloring multiple times. In that case, weights should be denoted using GeodataFrame's index."
   ]
  },
  {
   "cell_type": "markdown",
   "metadata": {},
   "source": [
    "## Performance\n",
    "\n",
    "The difference in performance of libpysal and GEOS-based method is large, so it is recommended to use libpysal if possible. Details of comparison between all methods are below:"
   ]
  },
  {
   "cell_type": "code",
   "execution_count": 83,
   "metadata": {},
   "outputs": [
    {
     "name": "stdout",
     "output_type": "stream",
     "text": [
      "10\n",
      "rook:  0.008332633972167968 s;  2 colors\n",
      "queen:  0.0067865848541259766 s;  4 colors\n",
      "geos:  0.18540759086608888 s;  4 colors\n",
      "dist1:  0.3216702938079834 s;  10 colors\n",
      "20\n",
      "rook:  0.023499011993408203 s;  2 colors\n",
      "queen:  0.02506265640258789 s;  4 colors\n",
      "geos:  0.7820498943328857 s;  4 colors\n",
      "dist1:  1.1883579730987548 s;  10 colors\n",
      "30\n",
      "rook:  0.09070181846618652 s;  2 colors\n",
      "queen:  0.05646052360534668 s;  4 colors\n",
      "geos:  1.4737992763519288 s;  4 colors\n",
      "dist1:  2.313761281967163 s;  10 colors\n",
      "40\n",
      "rook:  0.1293130874633789 s;  2 colors\n",
      "queen:  0.08214569091796875 s;  4 colors\n",
      "geos:  2.6077350616455077 s;  4 colors\n",
      "dist1:  4.236755275726319 s;  10 colors\n",
      "50\n",
      "rook:  0.1469170093536377 s;  2 colors\n",
      "queen:  0.16109180450439453 s;  4 colors\n",
      "geos:  4.08953275680542 s;  4 colors\n",
      "dist1:  6.589194393157959 s;  10 colors\n",
      "60\n",
      "rook:  0.25732903480529784 s;  2 colors\n",
      "queen:  0.25914812088012695 s;  4 colors\n",
      "geos:  7.026346206665039 s;  4 colors\n",
      "dist1:  10.011457777023315 s;  10 colors\n",
      "70\n",
      "rook:  0.29179821014404295 s;  2 colors\n",
      "queen:  0.3061429500579834 s;  4 colors\n",
      "geos:  8.105659198760986 s;  4 colors\n",
      "dist1:  12.690713024139404 s;  10 colors\n",
      "80\n",
      "rook:  0.40609278678894045 s;  2 colors\n",
      "queen:  0.37023115158081055 s;  4 colors\n",
      "geos:  10.018446493148804 s;  4 colors\n",
      "dist1:  16.996356391906737 s;  10 colors\n",
      "90\n",
      "rook:  0.5523331642150879 s;  2 colors\n",
      "queen:  0.5231795310974121 s;  4 colors\n",
      "geos:  13.362245750427245 s;  4 colors\n",
      "dist1:  19.79914846420288 s;  10 colors\n",
      "100\n",
      "rook:  0.632891035079956 s;  2 colors\n",
      "queen:  0.6089587688446045 s;  4 colors\n",
      "geos:  15.45732364654541 s;  4 colors\n",
      "dist1:  24.436386251449584 s;  10 colors\n"
     ]
    }
   ],
   "source": [
    "times = pd.DataFrame(index=['rook', 'queen', 'geos', 'dist1'])\n",
    "for number in range(10, 110, 10):\n",
    "    print(number)\n",
    "    polys = []\n",
    "    for x in range(number):\n",
    "        for y in range(number):\n",
    "            polys.append(Point(x, y).buffer(0.5, cap_style=3))\n",
    "    gdf = gpd.GeoDataFrame(geometry=polys)\n",
    "    timer = []\n",
    "    for run in range(5):\n",
    "        s = time()\n",
    "        colors = greedy(gdf, sw='rook', min_colors=2)\n",
    "        e = time() - s\n",
    "        timer.append(e)\n",
    "    times.loc['rook', number] = np.mean(timer)\n",
    "    print('rook: ', np.mean(timer), 's; ', np.max(colors) + 1, 'colors')\n",
    "    timer = []\n",
    "    for run in range(5):\n",
    "        s = time()\n",
    "        colors = greedy(gdf, sw='queen', min_colors=2)\n",
    "        e = time() - s\n",
    "        timer.append(e)\n",
    "    times.loc['queen', number] = np.mean(timer)\n",
    "    print('queen: ', np.mean(timer), 's; ', np.max(colors) + 1, 'colors')\n",
    "    timer = []\n",
    "    for run in range(5):\n",
    "        s = time()\n",
    "        colors = greedy(gdf, min_distance=0, min_colors=2)\n",
    "        e = time() - s\n",
    "        timer.append(e)\n",
    "    times.loc['geos', number] = np.mean(timer)\n",
    "    print('geos: ', np.mean(timer), 's; ', np.max(colors) + 1, 'colors')\n",
    "    timer = []\n",
    "    for run in range(5):\n",
    "        s = time()\n",
    "        colors = greedy(gdf, min_distance=1, min_colors=2)\n",
    "        e = time() - s\n",
    "        timer.append(e)\n",
    "    times.loc['dist1', number] = np.mean(timer)\n",
    "    print('dist1: ', np.mean(timer), 's; ', np.max(colors) + 1, 'colors')\n"
   ]
  },
  {
   "cell_type": "markdown",
   "metadata": {},
   "source": [
    "Comparison of time needed to generate greedy coloring using each of the methods above shows the big difference between GEOS and libpysal:"
   ]
  },
  {
   "cell_type": "code",
   "execution_count": 84,
   "metadata": {},
   "outputs": [
    {
     "data": {
      "text/plain": [
       "([<matplotlib.axis.XTick at 0x11fee53d0>,\n",
       "  <matplotlib.axis.XTick at 0x11fee53a0>,\n",
       "  <matplotlib.axis.XTick at 0x120fafd30>,\n",
       "  <matplotlib.axis.XTick at 0x1227513a0>,\n",
       "  <matplotlib.axis.XTick at 0x11ffaaa60>,\n",
       "  <matplotlib.axis.XTick at 0x11ffaac40>,\n",
       "  <matplotlib.axis.XTick at 0x11ffaa4f0>,\n",
       "  <matplotlib.axis.XTick at 0x11fc83550>,\n",
       "  <matplotlib.axis.XTick at 0x120251f70>,\n",
       "  <matplotlib.axis.XTick at 0x11fe3c640>],\n",
       " <a list of 10 Text xticklabel objects>)"
      ]
     },
     "execution_count": 84,
     "metadata": {},
     "output_type": "execute_result"
    },
    {
     "data": {
      "image/png": "[encoded data removed]",
      "text/plain": [
       "<Figure size 432x288 with 1 Axes>"
      ]
     },
     "metadata": {},
     "output_type": "display_data"
    }
   ],
   "source": [
    "ax = times.T.plot()\n",
    "ax.set_ylabel('time (s)')\n",
    "ax.set_xlabel('# of polygons')\n",
    "locs, labels = plt.xticks()\n",
    "plt.xticks(locs, (times.columns ** 2), rotation='vertical')"
   ]
  },
  {
   "cell_type": "markdown",
   "metadata": {},
   "source": [
    "Plotting without the GEOS methods, the difference between `queen` and `rook` is minimal:"
   ]
  },
  {
   "cell_type": "code",
   "execution_count": 85,
   "metadata": {},
   "outputs": [
    {
     "data": {
      "text/plain": [
       "([<matplotlib.axis.XTick at 0x122c90f10>,\n",
       "  <matplotlib.axis.XTick at 0x122c90f40>,\n",
       "  <matplotlib.axis.XTick at 0x121d10d90>,\n",
       "  <matplotlib.axis.XTick at 0x1224038b0>,\n",
       "  <matplotlib.axis.XTick at 0x11ffa15b0>,\n",
       "  <matplotlib.axis.XTick at 0x12590aeb0>,\n",
       "  <matplotlib.axis.XTick at 0x120629940>,\n",
       "  <matplotlib.axis.XTick at 0x120629250>,\n",
       "  <matplotlib.axis.XTick at 0x120629280>,\n",
       "  <matplotlib.axis.XTick at 0x11faeef10>],\n",
       " <a list of 10 Text xticklabel objects>)"
      ]
     },
     "execution_count": 85,
     "metadata": {},
     "output_type": "execute_result"
    },
    {
     "data": {
      "image/png": "[encoded data removed]",
      "text/plain": [
       "<Figure size 432x288 with 1 Axes>"
      ]
     },
     "metadata": {},
     "output_type": "display_data"
    }
   ],
   "source": [
    "ax = times.loc[['rook', 'queen']].T.plot()\n",
    "ax.set_ylabel('time (s)')\n",
    "ax.set_xlabel('# of polygons')\n",
    "locs, labels = plt.xticks()\n",
    "plt.xticks(locs, (times.columns ** 2), rotation='vertical')"
   ]
  },
  {
   "cell_type": "code",
   "execution_count": null,
   "metadata": {},
   "outputs": [],
   "source": []
  }
 ],
 "metadata": {
  "kernelspec": {
   "display_name": "geo_dev",
   "language": "python",
   "name": "geo_dev"
  },
  "language_info": {
   "codemirror_mode": {
    "name": "ipython",
    "version": 3
   },
   "file_extension": ".py",
   "mimetype": "text/x-python",
   "name": "python",
   "nbconvert_exporter": "python",
   "pygments_lexer": "ipython3",
   "version": "3.8.0"
  }
 },
 "nbformat": 4,
 "nbformat_minor": 4
}
